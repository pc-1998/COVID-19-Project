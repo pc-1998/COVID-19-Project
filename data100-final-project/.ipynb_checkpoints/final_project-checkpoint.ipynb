{
 "cells": [
  {
   "cell_type": "code",
   "execution_count": 5,
   "metadata": {},
   "outputs": [],
   "source": [
    "import numpy as np\n",
    "import pandas as pd\n",
    "'''uncomment when plotting\n",
    "import matplotlib.pyplot as plt\n",
    "import seaborn as sns\n",
    "sns.set(style = \"whitegrid\", \n",
    "        color_codes = True,\n",
    "        font_scale = 1.5)\n",
    "%matplotlib inline\n",
    "'''\n",
    "apr18states = pd.read_csv('final_proj_data/covid19/4.18states.csv')\n",
    "abridged_couties = pd.read_csv('final_proj_data/covid19/abridged_couties.csv')\n",
    "time_series_confirmed = pd.read_csv('final_proj_data/covid19/time_series_covid19_confirmed_US.csv')\n",
    "time_series_deaths = pd.read_csv('final_proj_data/covid19/time_series_covid19_deaths_US.csv')"
   ]
  },
  {
   "cell_type": "code",
   "execution_count": null,
   "metadata": {},
   "outputs": [],
   "source": []
  }
 ],
 "metadata": {
  "kernelspec": {
   "display_name": "Python 3",
   "language": "python",
   "name": "python3"
  },
  "language_info": {
   "codemirror_mode": {
    "name": "ipython",
    "version": 3
   },
   "file_extension": ".py",
   "mimetype": "text/x-python",
   "name": "python",
   "nbconvert_exporter": "python",
   "pygments_lexer": "ipython3",
   "version": "3.6.5"
  }
 },
 "nbformat": 4,
 "nbformat_minor": 4
}
